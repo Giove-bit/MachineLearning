{
  "nbformat": 4,
  "nbformat_minor": 0,
  "metadata": {
    "colab": {
      "provenance": [],
      "gpuType": "T4"
    },
    "kernelspec": {
      "name": "python3",
      "display_name": "Python 3"
    },
    "language_info": {
      "name": "python"
    },
    "accelerator": "GPU"
  },
  "cells": [
    {
      "cell_type": "markdown",
      "source": [
        "# Reti Neurali: filtro anti-hater per social network - Tutorial Giovanni Corigliano\n",
        "\n",
        "Obiettivo: creare un modello di deep learning in grado di filtrare i commenti negativi.\n",
        "\n",
        "Tutorial realizzato da **Giovanni Corigliano**:[Linkedin](https://www.linkedin.com/in/giovanni-corigliano-9819b7225/)\n",
        "\n",
        "\n",
        "Seguimi e lascia un like !"
      ],
      "metadata": {
        "id": "bxdscUiXbENz"
      }
    },
    {
      "cell_type": "code",
      "source": [
        "!pip install iterative-stratification"
      ],
      "metadata": {
        "colab": {
          "base_uri": "https://localhost:8080/"
        },
        "id": "7nidRNnvb4Zu",
        "outputId": "d85f4fd0-4ebc-4433-c9bc-a3ff4f314704"
      },
      "execution_count": 1,
      "outputs": [
        {
          "output_type": "stream",
          "name": "stdout",
          "text": [
            "Collecting iterative-stratification\n",
            "  Downloading iterative_stratification-0.1.9-py3-none-any.whl.metadata (1.3 kB)\n",
            "Requirement already satisfied: numpy in /usr/local/lib/python3.11/dist-packages (from iterative-stratification) (2.0.2)\n",
            "Requirement already satisfied: scipy in /usr/local/lib/python3.11/dist-packages (from iterative-stratification) (1.15.3)\n",
            "Requirement already satisfied: scikit-learn in /usr/local/lib/python3.11/dist-packages (from iterative-stratification) (1.6.1)\n",
            "Requirement already satisfied: joblib>=1.2.0 in /usr/local/lib/python3.11/dist-packages (from scikit-learn->iterative-stratification) (1.5.0)\n",
            "Requirement already satisfied: threadpoolctl>=3.1.0 in /usr/local/lib/python3.11/dist-packages (from scikit-learn->iterative-stratification) (3.6.0)\n",
            "Downloading iterative_stratification-0.1.9-py3-none-any.whl (8.5 kB)\n",
            "Installing collected packages: iterative-stratification\n",
            "Successfully installed iterative-stratification-0.1.9\n"
          ]
        }
      ]
    },
    {
      "cell_type": "code",
      "source": [
        "import numpy as np\n",
        "import pandas as pd\n",
        "import tensorflow as tf\n",
        "import matplotlib.pyplot as plt\n",
        "import seaborn as sns\n",
        "import re\n",
        "from nltk.corpus import stopwords\n",
        "import nltk\n",
        "from iterstrat.ml_stratifiers import MultilabelStratifiedShuffleSplit\n",
        "from imblearn.over_sampling import SMOTE\n",
        "from sklearn.neighbors import NearestNeighbors\n",
        "from sklearn.metrics import confusion_matrix\n",
        "from tensorflow.keras.preprocessing.text import Tokenizer\n",
        "from tensorflow.keras.preprocessing.sequence import pad_sequences\n",
        "from tensorflow.keras.models import Sequential\n",
        "from tensorflow.keras.layers import Embedding, LSTM, Dense, Bidirectional, Dropout\n",
        "from tensorflow.keras.optimizers import Adam\n",
        "from tensorflow.keras.backend import clear_session\n",
        "from tensorflow.keras.layers import Conv1D, MaxPooling1D\n",
        "from tensorflow.keras.callbacks import EarlyStopping"
      ],
      "metadata": {
        "id": "oWn_jzNdWDlV"
      },
      "execution_count": 2,
      "outputs": []
    },
    {
      "cell_type": "markdown",
      "source": [
        "# Importazione e analisi esplorativa del dataset"
      ],
      "metadata": {
        "id": "gcu0rPFPE4cN"
      }
    },
    {
      "cell_type": "code",
      "source": [
        "BASE_URL = \" https://proai-datasets.s3.eu-west-3.amazonaws.com/\"\n",
        "df = pd.read_csv(BASE_URL + \"Filter_Toxic_Comments_dataset.csv\")"
      ],
      "metadata": {
        "id": "H35hbugjWDy0"
      },
      "execution_count": 3,
      "outputs": []
    },
    {
      "cell_type": "code",
      "source": [
        "df.head()"
      ],
      "metadata": {
        "id": "qErQi40CWEJE",
        "colab": {
          "base_uri": "https://localhost:8080/",
          "height": 206
        },
        "outputId": "2b2b6c47-176c-4c6d-c2e4-6f3f56646e0c"
      },
      "execution_count": 4,
      "outputs": [
        {
          "output_type": "execute_result",
          "data": {
            "text/plain": [
              "                                        comment_text  toxic  severe_toxic  \\\n",
              "0  Explanation\\nWhy the edits made under my usern...      0             0   \n",
              "1  D'aww! He matches this background colour I'm s...      0             0   \n",
              "2  Hey man, I'm really not trying to edit war. It...      0             0   \n",
              "3  \"\\nMore\\nI can't make any real suggestions on ...      0             0   \n",
              "4  You, sir, are my hero. Any chance you remember...      0             0   \n",
              "\n",
              "   obscene  threat  insult  identity_hate  sum_injurious  \n",
              "0        0       0       0              0              0  \n",
              "1        0       0       0              0              0  \n",
              "2        0       0       0              0              0  \n",
              "3        0       0       0              0              0  \n",
              "4        0       0       0              0              0  "
            ],
            "text/html": [
              "\n",
              "  <div id=\"df-bf522303-06cc-48d1-9564-2953c1ed4a21\" class=\"colab-df-container\">\n",
              "    <div>\n",
              "<style scoped>\n",
              "    .dataframe tbody tr th:only-of-type {\n",
              "        vertical-align: middle;\n",
              "    }\n",
              "\n",
              "    .dataframe tbody tr th {\n",
              "        vertical-align: top;\n",
              "    }\n",
              "\n",
              "    .dataframe thead th {\n",
              "        text-align: right;\n",
              "    }\n",
              "</style>\n",
              "<table border=\"1\" class=\"dataframe\">\n",
              "  <thead>\n",
              "    <tr style=\"text-align: right;\">\n",
              "      <th></th>\n",
              "      <th>comment_text</th>\n",
              "      <th>toxic</th>\n",
              "      <th>severe_toxic</th>\n",
              "      <th>obscene</th>\n",
              "      <th>threat</th>\n",
              "      <th>insult</th>\n",
              "      <th>identity_hate</th>\n",
              "      <th>sum_injurious</th>\n",
              "    </tr>\n",
              "  </thead>\n",
              "  <tbody>\n",
              "    <tr>\n",
              "      <th>0</th>\n",
              "      <td>Explanation\\nWhy the edits made under my usern...</td>\n",
              "      <td>0</td>\n",
              "      <td>0</td>\n",
              "      <td>0</td>\n",
              "      <td>0</td>\n",
              "      <td>0</td>\n",
              "      <td>0</td>\n",
              "      <td>0</td>\n",
              "    </tr>\n",
              "    <tr>\n",
              "      <th>1</th>\n",
              "      <td>D'aww! He matches this background colour I'm s...</td>\n",
              "      <td>0</td>\n",
              "      <td>0</td>\n",
              "      <td>0</td>\n",
              "      <td>0</td>\n",
              "      <td>0</td>\n",
              "      <td>0</td>\n",
              "      <td>0</td>\n",
              "    </tr>\n",
              "    <tr>\n",
              "      <th>2</th>\n",
              "      <td>Hey man, I'm really not trying to edit war. It...</td>\n",
              "      <td>0</td>\n",
              "      <td>0</td>\n",
              "      <td>0</td>\n",
              "      <td>0</td>\n",
              "      <td>0</td>\n",
              "      <td>0</td>\n",
              "      <td>0</td>\n",
              "    </tr>\n",
              "    <tr>\n",
              "      <th>3</th>\n",
              "      <td>\"\\nMore\\nI can't make any real suggestions on ...</td>\n",
              "      <td>0</td>\n",
              "      <td>0</td>\n",
              "      <td>0</td>\n",
              "      <td>0</td>\n",
              "      <td>0</td>\n",
              "      <td>0</td>\n",
              "      <td>0</td>\n",
              "    </tr>\n",
              "    <tr>\n",
              "      <th>4</th>\n",
              "      <td>You, sir, are my hero. Any chance you remember...</td>\n",
              "      <td>0</td>\n",
              "      <td>0</td>\n",
              "      <td>0</td>\n",
              "      <td>0</td>\n",
              "      <td>0</td>\n",
              "      <td>0</td>\n",
              "      <td>0</td>\n",
              "    </tr>\n",
              "  </tbody>\n",
              "</table>\n",
              "</div>\n",
              "    <div class=\"colab-df-buttons\">\n",
              "\n",
              "  <div class=\"colab-df-container\">\n",
              "    <button class=\"colab-df-convert\" onclick=\"convertToInteractive('df-bf522303-06cc-48d1-9564-2953c1ed4a21')\"\n",
              "            title=\"Convert this dataframe to an interactive table.\"\n",
              "            style=\"display:none;\">\n",
              "\n",
              "  <svg xmlns=\"http://www.w3.org/2000/svg\" height=\"24px\" viewBox=\"0 -960 960 960\">\n",
              "    <path d=\"M120-120v-720h720v720H120Zm60-500h600v-160H180v160Zm220 220h160v-160H400v160Zm0 220h160v-160H400v160ZM180-400h160v-160H180v160Zm440 0h160v-160H620v160ZM180-180h160v-160H180v160Zm440 0h160v-160H620v160Z\"/>\n",
              "  </svg>\n",
              "    </button>\n",
              "\n",
              "  <style>\n",
              "    .colab-df-container {\n",
              "      display:flex;\n",
              "      gap: 12px;\n",
              "    }\n",
              "\n",
              "    .colab-df-convert {\n",
              "      background-color: #E8F0FE;\n",
              "      border: none;\n",
              "      border-radius: 50%;\n",
              "      cursor: pointer;\n",
              "      display: none;\n",
              "      fill: #1967D2;\n",
              "      height: 32px;\n",
              "      padding: 0 0 0 0;\n",
              "      width: 32px;\n",
              "    }\n",
              "\n",
              "    .colab-df-convert:hover {\n",
              "      background-color: #E2EBFA;\n",
              "      box-shadow: 0px 1px 2px rgba(60, 64, 67, 0.3), 0px 1px 3px 1px rgba(60, 64, 67, 0.15);\n",
              "      fill: #174EA6;\n",
              "    }\n",
              "\n",
              "    .colab-df-buttons div {\n",
              "      margin-bottom: 4px;\n",
              "    }\n",
              "\n",
              "    [theme=dark] .colab-df-convert {\n",
              "      background-color: #3B4455;\n",
              "      fill: #D2E3FC;\n",
              "    }\n",
              "\n",
              "    [theme=dark] .colab-df-convert:hover {\n",
              "      background-color: #434B5C;\n",
              "      box-shadow: 0px 1px 3px 1px rgba(0, 0, 0, 0.15);\n",
              "      filter: drop-shadow(0px 1px 2px rgba(0, 0, 0, 0.3));\n",
              "      fill: #FFFFFF;\n",
              "    }\n",
              "  </style>\n",
              "\n",
              "    <script>\n",
              "      const buttonEl =\n",
              "        document.querySelector('#df-bf522303-06cc-48d1-9564-2953c1ed4a21 button.colab-df-convert');\n",
              "      buttonEl.style.display =\n",
              "        google.colab.kernel.accessAllowed ? 'block' : 'none';\n",
              "\n",
              "      async function convertToInteractive(key) {\n",
              "        const element = document.querySelector('#df-bf522303-06cc-48d1-9564-2953c1ed4a21');\n",
              "        const dataTable =\n",
              "          await google.colab.kernel.invokeFunction('convertToInteractive',\n",
              "                                                    [key], {});\n",
              "        if (!dataTable) return;\n",
              "\n",
              "        const docLinkHtml = 'Like what you see? Visit the ' +\n",
              "          '<a target=\"_blank\" href=https://colab.research.google.com/notebooks/data_table.ipynb>data table notebook</a>'\n",
              "          + ' to learn more about interactive tables.';\n",
              "        element.innerHTML = '';\n",
              "        dataTable['output_type'] = 'display_data';\n",
              "        await google.colab.output.renderOutput(dataTable, element);\n",
              "        const docLink = document.createElement('div');\n",
              "        docLink.innerHTML = docLinkHtml;\n",
              "        element.appendChild(docLink);\n",
              "      }\n",
              "    </script>\n",
              "  </div>\n",
              "\n",
              "\n",
              "    <div id=\"df-83d0a2cc-519e-446f-91a8-de32e385f821\">\n",
              "      <button class=\"colab-df-quickchart\" onclick=\"quickchart('df-83d0a2cc-519e-446f-91a8-de32e385f821')\"\n",
              "                title=\"Suggest charts\"\n",
              "                style=\"display:none;\">\n",
              "\n",
              "<svg xmlns=\"http://www.w3.org/2000/svg\" height=\"24px\"viewBox=\"0 0 24 24\"\n",
              "     width=\"24px\">\n",
              "    <g>\n",
              "        <path d=\"M19 3H5c-1.1 0-2 .9-2 2v14c0 1.1.9 2 2 2h14c1.1 0 2-.9 2-2V5c0-1.1-.9-2-2-2zM9 17H7v-7h2v7zm4 0h-2V7h2v10zm4 0h-2v-4h2v4z\"/>\n",
              "    </g>\n",
              "</svg>\n",
              "      </button>\n",
              "\n",
              "<style>\n",
              "  .colab-df-quickchart {\n",
              "      --bg-color: #E8F0FE;\n",
              "      --fill-color: #1967D2;\n",
              "      --hover-bg-color: #E2EBFA;\n",
              "      --hover-fill-color: #174EA6;\n",
              "      --disabled-fill-color: #AAA;\n",
              "      --disabled-bg-color: #DDD;\n",
              "  }\n",
              "\n",
              "  [theme=dark] .colab-df-quickchart {\n",
              "      --bg-color: #3B4455;\n",
              "      --fill-color: #D2E3FC;\n",
              "      --hover-bg-color: #434B5C;\n",
              "      --hover-fill-color: #FFFFFF;\n",
              "      --disabled-bg-color: #3B4455;\n",
              "      --disabled-fill-color: #666;\n",
              "  }\n",
              "\n",
              "  .colab-df-quickchart {\n",
              "    background-color: var(--bg-color);\n",
              "    border: none;\n",
              "    border-radius: 50%;\n",
              "    cursor: pointer;\n",
              "    display: none;\n",
              "    fill: var(--fill-color);\n",
              "    height: 32px;\n",
              "    padding: 0;\n",
              "    width: 32px;\n",
              "  }\n",
              "\n",
              "  .colab-df-quickchart:hover {\n",
              "    background-color: var(--hover-bg-color);\n",
              "    box-shadow: 0 1px 2px rgba(60, 64, 67, 0.3), 0 1px 3px 1px rgba(60, 64, 67, 0.15);\n",
              "    fill: var(--button-hover-fill-color);\n",
              "  }\n",
              "\n",
              "  .colab-df-quickchart-complete:disabled,\n",
              "  .colab-df-quickchart-complete:disabled:hover {\n",
              "    background-color: var(--disabled-bg-color);\n",
              "    fill: var(--disabled-fill-color);\n",
              "    box-shadow: none;\n",
              "  }\n",
              "\n",
              "  .colab-df-spinner {\n",
              "    border: 2px solid var(--fill-color);\n",
              "    border-color: transparent;\n",
              "    border-bottom-color: var(--fill-color);\n",
              "    animation:\n",
              "      spin 1s steps(1) infinite;\n",
              "  }\n",
              "\n",
              "  @keyframes spin {\n",
              "    0% {\n",
              "      border-color: transparent;\n",
              "      border-bottom-color: var(--fill-color);\n",
              "      border-left-color: var(--fill-color);\n",
              "    }\n",
              "    20% {\n",
              "      border-color: transparent;\n",
              "      border-left-color: var(--fill-color);\n",
              "      border-top-color: var(--fill-color);\n",
              "    }\n",
              "    30% {\n",
              "      border-color: transparent;\n",
              "      border-left-color: var(--fill-color);\n",
              "      border-top-color: var(--fill-color);\n",
              "      border-right-color: var(--fill-color);\n",
              "    }\n",
              "    40% {\n",
              "      border-color: transparent;\n",
              "      border-right-color: var(--fill-color);\n",
              "      border-top-color: var(--fill-color);\n",
              "    }\n",
              "    60% {\n",
              "      border-color: transparent;\n",
              "      border-right-color: var(--fill-color);\n",
              "    }\n",
              "    80% {\n",
              "      border-color: transparent;\n",
              "      border-right-color: var(--fill-color);\n",
              "      border-bottom-color: var(--fill-color);\n",
              "    }\n",
              "    90% {\n",
              "      border-color: transparent;\n",
              "      border-bottom-color: var(--fill-color);\n",
              "    }\n",
              "  }\n",
              "</style>\n",
              "\n",
              "      <script>\n",
              "        async function quickchart(key) {\n",
              "          const quickchartButtonEl =\n",
              "            document.querySelector('#' + key + ' button');\n",
              "          quickchartButtonEl.disabled = true;  // To prevent multiple clicks.\n",
              "          quickchartButtonEl.classList.add('colab-df-spinner');\n",
              "          try {\n",
              "            const charts = await google.colab.kernel.invokeFunction(\n",
              "                'suggestCharts', [key], {});\n",
              "          } catch (error) {\n",
              "            console.error('Error during call to suggestCharts:', error);\n",
              "          }\n",
              "          quickchartButtonEl.classList.remove('colab-df-spinner');\n",
              "          quickchartButtonEl.classList.add('colab-df-quickchart-complete');\n",
              "        }\n",
              "        (() => {\n",
              "          let quickchartButtonEl =\n",
              "            document.querySelector('#df-83d0a2cc-519e-446f-91a8-de32e385f821 button');\n",
              "          quickchartButtonEl.style.display =\n",
              "            google.colab.kernel.accessAllowed ? 'block' : 'none';\n",
              "        })();\n",
              "      </script>\n",
              "    </div>\n",
              "\n",
              "    </div>\n",
              "  </div>\n"
            ],
            "application/vnd.google.colaboratory.intrinsic+json": {
              "type": "dataframe",
              "variable_name": "df"
            }
          },
          "metadata": {},
          "execution_count": 4
        }
      ]
    },
    {
      "cell_type": "markdown",
      "source": [
        "Il dataset contiene commenti utente e la loro classificazione. In particolare, le classi sono 6:\n",
        "\n",
        "\n",
        "*   toxic\n",
        "*   severe_toxic\n",
        "*   obscene\n",
        "*   threat\n",
        "*   insult\n",
        "*   identity_hate\n",
        "\n",
        "Ogni commento può appartenere a nessuna, ad una o a più classi. Si deduce che si tratta di un caso di classificazione multilabel.\n"
      ],
      "metadata": {
        "id": "UZLuauutDnMF"
      }
    },
    {
      "cell_type": "code",
      "source": [
        "df.describe()"
      ],
      "metadata": {
        "colab": {
          "base_uri": "https://localhost:8080/",
          "height": 300
        },
        "id": "xMX99XmEDCZ7",
        "outputId": "f28a029b-0902-450d-cea0-0ac9ed8ce5d2"
      },
      "execution_count": 5,
      "outputs": [
        {
          "output_type": "execute_result",
          "data": {
            "text/plain": [
              "               toxic   severe_toxic        obscene         threat  \\\n",
              "count  159571.000000  159571.000000  159571.000000  159571.000000   \n",
              "mean        0.095844       0.009996       0.052948       0.002996   \n",
              "std         0.294379       0.099477       0.223931       0.054650   \n",
              "min         0.000000       0.000000       0.000000       0.000000   \n",
              "25%         0.000000       0.000000       0.000000       0.000000   \n",
              "50%         0.000000       0.000000       0.000000       0.000000   \n",
              "75%         0.000000       0.000000       0.000000       0.000000   \n",
              "max         1.000000       1.000000       1.000000       1.000000   \n",
              "\n",
              "              insult  identity_hate  sum_injurious  \n",
              "count  159571.000000  159571.000000  159571.000000  \n",
              "mean        0.049364       0.008805       0.219952  \n",
              "std         0.216627       0.093420       0.748260  \n",
              "min         0.000000       0.000000       0.000000  \n",
              "25%         0.000000       0.000000       0.000000  \n",
              "50%         0.000000       0.000000       0.000000  \n",
              "75%         0.000000       0.000000       0.000000  \n",
              "max         1.000000       1.000000       6.000000  "
            ],
            "text/html": [
              "\n",
              "  <div id=\"df-97a96b58-26e2-4059-a224-30f688e76795\" class=\"colab-df-container\">\n",
              "    <div>\n",
              "<style scoped>\n",
              "    .dataframe tbody tr th:only-of-type {\n",
              "        vertical-align: middle;\n",
              "    }\n",
              "\n",
              "    .dataframe tbody tr th {\n",
              "        vertical-align: top;\n",
              "    }\n",
              "\n",
              "    .dataframe thead th {\n",
              "        text-align: right;\n",
              "    }\n",
              "</style>\n",
              "<table border=\"1\" class=\"dataframe\">\n",
              "  <thead>\n",
              "    <tr style=\"text-align: right;\">\n",
              "      <th></th>\n",
              "      <th>toxic</th>\n",
              "      <th>severe_toxic</th>\n",
              "      <th>obscene</th>\n",
              "      <th>threat</th>\n",
              "      <th>insult</th>\n",
              "      <th>identity_hate</th>\n",
              "      <th>sum_injurious</th>\n",
              "    </tr>\n",
              "  </thead>\n",
              "  <tbody>\n",
              "    <tr>\n",
              "      <th>count</th>\n",
              "      <td>159571.000000</td>\n",
              "      <td>159571.000000</td>\n",
              "      <td>159571.000000</td>\n",
              "      <td>159571.000000</td>\n",
              "      <td>159571.000000</td>\n",
              "      <td>159571.000000</td>\n",
              "      <td>159571.000000</td>\n",
              "    </tr>\n",
              "    <tr>\n",
              "      <th>mean</th>\n",
              "      <td>0.095844</td>\n",
              "      <td>0.009996</td>\n",
              "      <td>0.052948</td>\n",
              "      <td>0.002996</td>\n",
              "      <td>0.049364</td>\n",
              "      <td>0.008805</td>\n",
              "      <td>0.219952</td>\n",
              "    </tr>\n",
              "    <tr>\n",
              "      <th>std</th>\n",
              "      <td>0.294379</td>\n",
              "      <td>0.099477</td>\n",
              "      <td>0.223931</td>\n",
              "      <td>0.054650</td>\n",
              "      <td>0.216627</td>\n",
              "      <td>0.093420</td>\n",
              "      <td>0.748260</td>\n",
              "    </tr>\n",
              "    <tr>\n",
              "      <th>min</th>\n",
              "      <td>0.000000</td>\n",
              "      <td>0.000000</td>\n",
              "      <td>0.000000</td>\n",
              "      <td>0.000000</td>\n",
              "      <td>0.000000</td>\n",
              "      <td>0.000000</td>\n",
              "      <td>0.000000</td>\n",
              "    </tr>\n",
              "    <tr>\n",
              "      <th>25%</th>\n",
              "      <td>0.000000</td>\n",
              "      <td>0.000000</td>\n",
              "      <td>0.000000</td>\n",
              "      <td>0.000000</td>\n",
              "      <td>0.000000</td>\n",
              "      <td>0.000000</td>\n",
              "      <td>0.000000</td>\n",
              "    </tr>\n",
              "    <tr>\n",
              "      <th>50%</th>\n",
              "      <td>0.000000</td>\n",
              "      <td>0.000000</td>\n",
              "      <td>0.000000</td>\n",
              "      <td>0.000000</td>\n",
              "      <td>0.000000</td>\n",
              "      <td>0.000000</td>\n",
              "      <td>0.000000</td>\n",
              "    </tr>\n",
              "    <tr>\n",
              "      <th>75%</th>\n",
              "      <td>0.000000</td>\n",
              "      <td>0.000000</td>\n",
              "      <td>0.000000</td>\n",
              "      <td>0.000000</td>\n",
              "      <td>0.000000</td>\n",
              "      <td>0.000000</td>\n",
              "      <td>0.000000</td>\n",
              "    </tr>\n",
              "    <tr>\n",
              "      <th>max</th>\n",
              "      <td>1.000000</td>\n",
              "      <td>1.000000</td>\n",
              "      <td>1.000000</td>\n",
              "      <td>1.000000</td>\n",
              "      <td>1.000000</td>\n",
              "      <td>1.000000</td>\n",
              "      <td>6.000000</td>\n",
              "    </tr>\n",
              "  </tbody>\n",
              "</table>\n",
              "</div>\n",
              "    <div class=\"colab-df-buttons\">\n",
              "\n",
              "  <div class=\"colab-df-container\">\n",
              "    <button class=\"colab-df-convert\" onclick=\"convertToInteractive('df-97a96b58-26e2-4059-a224-30f688e76795')\"\n",
              "            title=\"Convert this dataframe to an interactive table.\"\n",
              "            style=\"display:none;\">\n",
              "\n",
              "  <svg xmlns=\"http://www.w3.org/2000/svg\" height=\"24px\" viewBox=\"0 -960 960 960\">\n",
              "    <path d=\"M120-120v-720h720v720H120Zm60-500h600v-160H180v160Zm220 220h160v-160H400v160Zm0 220h160v-160H400v160ZM180-400h160v-160H180v160Zm440 0h160v-160H620v160ZM180-180h160v-160H180v160Zm440 0h160v-160H620v160Z\"/>\n",
              "  </svg>\n",
              "    </button>\n",
              "\n",
              "  <style>\n",
              "    .colab-df-container {\n",
              "      display:flex;\n",
              "      gap: 12px;\n",
              "    }\n",
              "\n",
              "    .colab-df-convert {\n",
              "      background-color: #E8F0FE;\n",
              "      border: none;\n",
              "      border-radius: 50%;\n",
              "      cursor: pointer;\n",
              "      display: none;\n",
              "      fill: #1967D2;\n",
              "      height: 32px;\n",
              "      padding: 0 0 0 0;\n",
              "      width: 32px;\n",
              "    }\n",
              "\n",
              "    .colab-df-convert:hover {\n",
              "      background-color: #E2EBFA;\n",
              "      box-shadow: 0px 1px 2px rgba(60, 64, 67, 0.3), 0px 1px 3px 1px rgba(60, 64, 67, 0.15);\n",
              "      fill: #174EA6;\n",
              "    }\n",
              "\n",
              "    .colab-df-buttons div {\n",
              "      margin-bottom: 4px;\n",
              "    }\n",
              "\n",
              "    [theme=dark] .colab-df-convert {\n",
              "      background-color: #3B4455;\n",
              "      fill: #D2E3FC;\n",
              "    }\n",
              "\n",
              "    [theme=dark] .colab-df-convert:hover {\n",
              "      background-color: #434B5C;\n",
              "      box-shadow: 0px 1px 3px 1px rgba(0, 0, 0, 0.15);\n",
              "      filter: drop-shadow(0px 1px 2px rgba(0, 0, 0, 0.3));\n",
              "      fill: #FFFFFF;\n",
              "    }\n",
              "  </style>\n",
              "\n",
              "    <script>\n",
              "      const buttonEl =\n",
              "        document.querySelector('#df-97a96b58-26e2-4059-a224-30f688e76795 button.colab-df-convert');\n",
              "      buttonEl.style.display =\n",
              "        google.colab.kernel.accessAllowed ? 'block' : 'none';\n",
              "\n",
              "      async function convertToInteractive(key) {\n",
              "        const element = document.querySelector('#df-97a96b58-26e2-4059-a224-30f688e76795');\n",
              "        const dataTable =\n",
              "          await google.colab.kernel.invokeFunction('convertToInteractive',\n",
              "                                                    [key], {});\n",
              "        if (!dataTable) return;\n",
              "\n",
              "        const docLinkHtml = 'Like what you see? Visit the ' +\n",
              "          '<a target=\"_blank\" href=https://colab.research.google.com/notebooks/data_table.ipynb>data table notebook</a>'\n",
              "          + ' to learn more about interactive tables.';\n",
              "        element.innerHTML = '';\n",
              "        dataTable['output_type'] = 'display_data';\n",
              "        await google.colab.output.renderOutput(dataTable, element);\n",
              "        const docLink = document.createElement('div');\n",
              "        docLink.innerHTML = docLinkHtml;\n",
              "        element.appendChild(docLink);\n",
              "      }\n",
              "    </script>\n",
              "  </div>\n",
              "\n",
              "\n",
              "    <div id=\"df-e1b9973e-cc75-4946-b3f6-c3535e5ac3db\">\n",
              "      <button class=\"colab-df-quickchart\" onclick=\"quickchart('df-e1b9973e-cc75-4946-b3f6-c3535e5ac3db')\"\n",
              "                title=\"Suggest charts\"\n",
              "                style=\"display:none;\">\n",
              "\n",
              "<svg xmlns=\"http://www.w3.org/2000/svg\" height=\"24px\"viewBox=\"0 0 24 24\"\n",
              "     width=\"24px\">\n",
              "    <g>\n",
              "        <path d=\"M19 3H5c-1.1 0-2 .9-2 2v14c0 1.1.9 2 2 2h14c1.1 0 2-.9 2-2V5c0-1.1-.9-2-2-2zM9 17H7v-7h2v7zm4 0h-2V7h2v10zm4 0h-2v-4h2v4z\"/>\n",
              "    </g>\n",
              "</svg>\n",
              "      </button>\n",
              "\n",
              "<style>\n",
              "  .colab-df-quickchart {\n",
              "      --bg-color: #E8F0FE;\n",
              "      --fill-color: #1967D2;\n",
              "      --hover-bg-color: #E2EBFA;\n",
              "      --hover-fill-color: #174EA6;\n",
              "      --disabled-fill-color: #AAA;\n",
              "      --disabled-bg-color: #DDD;\n",
              "  }\n",
              "\n",
              "  [theme=dark] .colab-df-quickchart {\n",
              "      --bg-color: #3B4455;\n",
              "      --fill-color: #D2E3FC;\n",
              "      --hover-bg-color: #434B5C;\n",
              "      --hover-fill-color: #FFFFFF;\n",
              "      --disabled-bg-color: #3B4455;\n",
              "      --disabled-fill-color: #666;\n",
              "  }\n",
              "\n",
              "  .colab-df-quickchart {\n",
              "    background-color: var(--bg-color);\n",
              "    border: none;\n",
              "    border-radius: 50%;\n",
              "    cursor: pointer;\n",
              "    display: none;\n",
              "    fill: var(--fill-color);\n",
              "    height: 32px;\n",
              "    padding: 0;\n",
              "    width: 32px;\n",
              "  }\n",
              "\n",
              "  .colab-df-quickchart:hover {\n",
              "    background-color: var(--hover-bg-color);\n",
              "    box-shadow: 0 1px 2px rgba(60, 64, 67, 0.3), 0 1px 3px 1px rgba(60, 64, 67, 0.15);\n",
              "    fill: var(--button-hover-fill-color);\n",
              "  }\n",
              "\n",
              "  .colab-df-quickchart-complete:disabled,\n",
              "  .colab-df-quickchart-complete:disabled:hover {\n",
              "    background-color: var(--disabled-bg-color);\n",
              "    fill: var(--disabled-fill-color);\n",
              "    box-shadow: none;\n",
              "  }\n",
              "\n",
              "  .colab-df-spinner {\n",
              "    border: 2px solid var(--fill-color);\n",
              "    border-color: transparent;\n",
              "    border-bottom-color: var(--fill-color);\n",
              "    animation:\n",
              "      spin 1s steps(1) infinite;\n",
              "  }\n",
              "\n",
              "  @keyframes spin {\n",
              "    0% {\n",
              "      border-color: transparent;\n",
              "      border-bottom-color: var(--fill-color);\n",
              "      border-left-color: var(--fill-color);\n",
              "    }\n",
              "    20% {\n",
              "      border-color: transparent;\n",
              "      border-left-color: var(--fill-color);\n",
              "      border-top-color: var(--fill-color);\n",
              "    }\n",
              "    30% {\n",
              "      border-color: transparent;\n",
              "      border-left-color: var(--fill-color);\n",
              "      border-top-color: var(--fill-color);\n",
              "      border-right-color: var(--fill-color);\n",
              "    }\n",
              "    40% {\n",
              "      border-color: transparent;\n",
              "      border-right-color: var(--fill-color);\n",
              "      border-top-color: var(--fill-color);\n",
              "    }\n",
              "    60% {\n",
              "      border-color: transparent;\n",
              "      border-right-color: var(--fill-color);\n",
              "    }\n",
              "    80% {\n",
              "      border-color: transparent;\n",
              "      border-right-color: var(--fill-color);\n",
              "      border-bottom-color: var(--fill-color);\n",
              "    }\n",
              "    90% {\n",
              "      border-color: transparent;\n",
              "      border-bottom-color: var(--fill-color);\n",
              "    }\n",
              "  }\n",
              "</style>\n",
              "\n",
              "      <script>\n",
              "        async function quickchart(key) {\n",
              "          const quickchartButtonEl =\n",
              "            document.querySelector('#' + key + ' button');\n",
              "          quickchartButtonEl.disabled = true;  // To prevent multiple clicks.\n",
              "          quickchartButtonEl.classList.add('colab-df-spinner');\n",
              "          try {\n",
              "            const charts = await google.colab.kernel.invokeFunction(\n",
              "                'suggestCharts', [key], {});\n",
              "          } catch (error) {\n",
              "            console.error('Error during call to suggestCharts:', error);\n",
              "          }\n",
              "          quickchartButtonEl.classList.remove('colab-df-spinner');\n",
              "          quickchartButtonEl.classList.add('colab-df-quickchart-complete');\n",
              "        }\n",
              "        (() => {\n",
              "          let quickchartButtonEl =\n",
              "            document.querySelector('#df-e1b9973e-cc75-4946-b3f6-c3535e5ac3db button');\n",
              "          quickchartButtonEl.style.display =\n",
              "            google.colab.kernel.accessAllowed ? 'block' : 'none';\n",
              "        })();\n",
              "      </script>\n",
              "    </div>\n",
              "\n",
              "    </div>\n",
              "  </div>\n"
            ],
            "application/vnd.google.colaboratory.intrinsic+json": {
              "type": "dataframe",
              "summary": "{\n  \"name\": \"df\",\n  \"rows\": 8,\n  \"fields\": [\n    {\n      \"column\": \"toxic\",\n      \"properties\": {\n        \"dtype\": \"number\",\n        \"std\": 56416.79787451925,\n        \"min\": 0.0,\n        \"max\": 159571.0,\n        \"num_unique_values\": 5,\n        \"samples\": [\n          0.09584448302009764,\n          1.0,\n          0.29437877159980147\n        ],\n        \"semantic_type\": \"\",\n        \"description\": \"\"\n      }\n    },\n    {\n      \"column\": \"severe_toxic\",\n      \"properties\": {\n        \"dtype\": \"number\",\n        \"std\": 56416.81205458228,\n        \"min\": 0.0,\n        \"max\": 159571.0,\n        \"num_unique_values\": 5,\n        \"samples\": [\n          0.009995550569965721,\n          1.0,\n          0.09947714085736063\n        ],\n        \"semantic_type\": \"\",\n        \"description\": \"\"\n      }\n    },\n    {\n      \"column\": \"obscene\",\n      \"properties\": {\n        \"dtype\": \"number\",\n        \"std\": 56416.80359926643,\n        \"min\": 0.0,\n        \"max\": 159571.0,\n        \"num_unique_values\": 5,\n        \"samples\": [\n          0.052948217407925,\n          1.0,\n          0.22393083291522248\n        ],\n        \"semantic_type\": \"\",\n        \"description\": \"\"\n      }\n    },\n    {\n      \"column\": \"threat\",\n      \"properties\": {\n        \"dtype\": \"number\",\n        \"std\": 56416.814672281485,\n        \"min\": 0.0,\n        \"max\": 159571.0,\n        \"num_unique_values\": 5,\n        \"samples\": [\n          0.002995531769557125,\n          1.0,\n          0.05464958623143207\n        ],\n        \"semantic_type\": \"\",\n        \"description\": \"\"\n      }\n    },\n    {\n      \"column\": \"insult\",\n      \"properties\": {\n        \"dtype\": \"number\",\n        \"std\": 56416.804149230666,\n        \"min\": 0.0,\n        \"max\": 159571.0,\n        \"num_unique_values\": 5,\n        \"samples\": [\n          0.04936360616904074,\n          1.0,\n          0.21662671727713204\n        ],\n        \"semantic_type\": \"\",\n        \"description\": \"\"\n      }\n    },\n    {\n      \"column\": \"identity_hate\",\n      \"properties\": {\n        \"dtype\": \"number\",\n        \"std\": 56416.81242063,\n        \"min\": 0.0,\n        \"max\": 159571.0,\n        \"num_unique_values\": 5,\n        \"samples\": [\n          0.00880485802558109,\n          1.0,\n          0.09342048594140996\n        ],\n        \"semantic_type\": \"\",\n        \"description\": \"\"\n      }\n    },\n    {\n      \"column\": \"sum_injurious\",\n      \"properties\": {\n        \"dtype\": \"number\",\n        \"std\": 56416.516180062856,\n        \"min\": 0.0,\n        \"max\": 159571.0,\n        \"num_unique_values\": 5,\n        \"samples\": [\n          0.2199522469621673,\n          6.0,\n          0.7482599397908138\n        ],\n        \"semantic_type\": \"\",\n        \"description\": \"\"\n      }\n    }\n  ]\n}"
            }
          },
          "metadata": {},
          "execution_count": 5
        }
      ]
    },
    {
      "cell_type": "markdown",
      "source": [
        "Analizziamo il dataset:\n",
        "- Contiene un totale di 159571 commenti.\n",
        "- La classe più rappresentata è \"toxic\",  seguita da \"obscene\" e \"insult\".\n",
        "- Possiamo inoltre notare che il valore max della feature \"sum_injurious\" è uguale a 6 dunque ci sono commenti che appartengono a tutte e sei le classi."
      ],
      "metadata": {
        "id": "t0rxWlDYFCit"
      }
    },
    {
      "cell_type": "code",
      "source": [
        "df.isna().sum()"
      ],
      "metadata": {
        "colab": {
          "base_uri": "https://localhost:8080/",
          "height": 335
        },
        "id": "cv9_InMNDcHe",
        "outputId": "a32a227b-0198-402f-9dd2-fca113f24b3a"
      },
      "execution_count": 6,
      "outputs": [
        {
          "output_type": "execute_result",
          "data": {
            "text/plain": [
              "comment_text     0\n",
              "toxic            0\n",
              "severe_toxic     0\n",
              "obscene          0\n",
              "threat           0\n",
              "insult           0\n",
              "identity_hate    0\n",
              "sum_injurious    0\n",
              "dtype: int64"
            ],
            "text/html": [
              "<div>\n",
              "<style scoped>\n",
              "    .dataframe tbody tr th:only-of-type {\n",
              "        vertical-align: middle;\n",
              "    }\n",
              "\n",
              "    .dataframe tbody tr th {\n",
              "        vertical-align: top;\n",
              "    }\n",
              "\n",
              "    .dataframe thead th {\n",
              "        text-align: right;\n",
              "    }\n",
              "</style>\n",
              "<table border=\"1\" class=\"dataframe\">\n",
              "  <thead>\n",
              "    <tr style=\"text-align: right;\">\n",
              "      <th></th>\n",
              "      <th>0</th>\n",
              "    </tr>\n",
              "  </thead>\n",
              "  <tbody>\n",
              "    <tr>\n",
              "      <th>comment_text</th>\n",
              "      <td>0</td>\n",
              "    </tr>\n",
              "    <tr>\n",
              "      <th>toxic</th>\n",
              "      <td>0</td>\n",
              "    </tr>\n",
              "    <tr>\n",
              "      <th>severe_toxic</th>\n",
              "      <td>0</td>\n",
              "    </tr>\n",
              "    <tr>\n",
              "      <th>obscene</th>\n",
              "      <td>0</td>\n",
              "    </tr>\n",
              "    <tr>\n",
              "      <th>threat</th>\n",
              "      <td>0</td>\n",
              "    </tr>\n",
              "    <tr>\n",
              "      <th>insult</th>\n",
              "      <td>0</td>\n",
              "    </tr>\n",
              "    <tr>\n",
              "      <th>identity_hate</th>\n",
              "      <td>0</td>\n",
              "    </tr>\n",
              "    <tr>\n",
              "      <th>sum_injurious</th>\n",
              "      <td>0</td>\n",
              "    </tr>\n",
              "  </tbody>\n",
              "</table>\n",
              "</div><br><label><b>dtype:</b> int64</label>"
            ]
          },
          "metadata": {},
          "execution_count": 6
        }
      ]
    },
    {
      "cell_type": "markdown",
      "source": [
        "Abbiamo verificato che non sono presenti dati mancanti."
      ],
      "metadata": {
        "id": "CIvVxtT8Fv8x"
      }
    },
    {
      "cell_type": "code",
      "source": [
        "label_counts = ['toxic', 'severe_toxic', 'obscene', 'threat', 'insult', 'identity_hate']\n",
        "\n",
        "for label in label_counts:\n",
        "  print(df[label].value_counts())"
      ],
      "metadata": {
        "colab": {
          "base_uri": "https://localhost:8080/"
        },
        "id": "LIx6TJZNLWrd",
        "outputId": "de5e9783-4a47-47ef-d226-2947c7b25e17"
      },
      "execution_count": 7,
      "outputs": [
        {
          "output_type": "stream",
          "name": "stdout",
          "text": [
            "toxic\n",
            "0    144277\n",
            "1     15294\n",
            "Name: count, dtype: int64\n",
            "severe_toxic\n",
            "0    157976\n",
            "1      1595\n",
            "Name: count, dtype: int64\n",
            "obscene\n",
            "0    151122\n",
            "1      8449\n",
            "Name: count, dtype: int64\n",
            "threat\n",
            "0    159093\n",
            "1       478\n",
            "Name: count, dtype: int64\n",
            "insult\n",
            "0    151694\n",
            "1      7877\n",
            "Name: count, dtype: int64\n",
            "identity_hate\n",
            "0    158166\n",
            "1      1405\n",
            "Name: count, dtype: int64\n"
          ]
        }
      ]
    },
    {
      "cell_type": "markdown",
      "source": [
        "Questo risultato mostra come i commenti siano distribuiti tra le diverse classi. In particolare, il valore 1 indica l'appartenenza a una determinata classe, mentre 0 rappresenta la non appartenenza. È evidente un forte sbilanciamento nel dataset: i commenti positivi sono nettamente più numerosi rispetto a quelli negativi."
      ],
      "metadata": {
        "id": "3TOgXZ_pHpjk"
      }
    },
    {
      "cell_type": "code",
      "source": [
        "counts = df[['sum_injurious']].value_counts()\n",
        "counts"
      ],
      "metadata": {
        "colab": {
          "base_uri": "https://localhost:8080/",
          "height": 335
        },
        "id": "Wez0wvFbLWob",
        "outputId": "506321be-f47e-4bfe-bf3c-9588783ceae0"
      },
      "execution_count": 8,
      "outputs": [
        {
          "output_type": "execute_result",
          "data": {
            "text/plain": [
              "sum_injurious\n",
              "0                143346\n",
              "1                  6360\n",
              "3                  4209\n",
              "2                  3480\n",
              "4                  1760\n",
              "5                   385\n",
              "6                    31\n",
              "Name: count, dtype: int64"
            ],
            "text/html": [
              "<div>\n",
              "<style scoped>\n",
              "    .dataframe tbody tr th:only-of-type {\n",
              "        vertical-align: middle;\n",
              "    }\n",
              "\n",
              "    .dataframe tbody tr th {\n",
              "        vertical-align: top;\n",
              "    }\n",
              "\n",
              "    .dataframe thead th {\n",
              "        text-align: right;\n",
              "    }\n",
              "</style>\n",
              "<table border=\"1\" class=\"dataframe\">\n",
              "  <thead>\n",
              "    <tr style=\"text-align: right;\">\n",
              "      <th></th>\n",
              "      <th>count</th>\n",
              "    </tr>\n",
              "    <tr>\n",
              "      <th>sum_injurious</th>\n",
              "      <th></th>\n",
              "    </tr>\n",
              "  </thead>\n",
              "  <tbody>\n",
              "    <tr>\n",
              "      <th>0</th>\n",
              "      <td>143346</td>\n",
              "    </tr>\n",
              "    <tr>\n",
              "      <th>1</th>\n",
              "      <td>6360</td>\n",
              "    </tr>\n",
              "    <tr>\n",
              "      <th>3</th>\n",
              "      <td>4209</td>\n",
              "    </tr>\n",
              "    <tr>\n",
              "      <th>2</th>\n",
              "      <td>3480</td>\n",
              "    </tr>\n",
              "    <tr>\n",
              "      <th>4</th>\n",
              "      <td>1760</td>\n",
              "    </tr>\n",
              "    <tr>\n",
              "      <th>5</th>\n",
              "      <td>385</td>\n",
              "    </tr>\n",
              "    <tr>\n",
              "      <th>6</th>\n",
              "      <td>31</td>\n",
              "    </tr>\n",
              "  </tbody>\n",
              "</table>\n",
              "</div><br><label><b>dtype:</b> int64</label>"
            ]
          },
          "metadata": {},
          "execution_count": 8
        }
      ]
    },
    {
      "cell_type": "markdown",
      "source": [
        "Si riconferma la netta maggioranza di commenti positivi, cioè con 0 etichette"
      ],
      "metadata": {
        "id": "FWlOSLBYIpjX"
      }
    },
    {
      "cell_type": "markdown",
      "source": [
        "### Costruiamo un grafico per osservare la distribuzione dei dati"
      ],
      "metadata": {
        "id": "IMNdtPeTd2uw"
      }
    },
    {
      "cell_type": "code",
      "source": [
        "# Count the number of 1s and 0s for each column\n",
        "counts = df[label_counts].apply(lambda col: col.value_counts()).fillna(0).astype(int).T\n",
        "\n",
        "# Rename columns for clarity\n",
        "counts.columns = ['Non-toxic (0)', 'Toxic (1)']\n",
        "\n",
        "# Grouped bar plot\n",
        "counts.plot(kind='bar', stacked=False, figsize=(10, 6), color=['lightcoral', 'steelblue'])\n",
        "plt.title('Distribution of Labels 0 and 1')\n",
        "plt.ylabel('Number of Occurrences')\n",
        "plt.xticks(rotation=45)\n",
        "plt.grid(axis='y', linestyle='--', alpha=0.6)\n",
        "plt.tight_layout()\n",
        "plt.show()"
      ],
      "metadata": {
        "colab": {
          "base_uri": "https://localhost:8080/",
          "height": 607
        },
        "id": "VJbPyNe3O4oW",
        "outputId": "34415be3-60b1-45db-dddb-87aeb75ddd02"
      },
      "execution_count": 9,
      "outputs": [
        {
          "output_type": "display_data",
          "data": {
            "text/plain": [
              "<Figure size 1000x600 with 1 Axes>"
            ],
            "image/png": "[encoded data removed]"
          },
          "metadata": {}
        }
      ]
    },
    {
      "cell_type": "markdown",
      "source": [
        "Il grafico conferma quanto osservato finora: la maggior parte dei commenti appartiene alla classe non tossica, mentre quelli tossici sono nettamente inferiori.\n",
        "\n",
        "Questa marcata disparità rende necessario l’utilizzo di tecniche di bilanciamento delle classi, al fine di riequilibrare il dataset e migliorare le performance del modello."
      ],
      "metadata": {
        "id": "XTiOR_L6P0b6"
      }
    },
    {
      "cell_type": "markdown",
      "source": [
        "### Costruiamo un grafico per osservare la lunghezza dei commenti"
      ],
      "metadata": {
        "id": "l5PtoCYVePm-"
      }
    },
    {
      "cell_type": "code",
      "source": [
        "# Calculate the length of the comments\n",
        "df['comment_length'] = df['comment_text'].apply(len)\n",
        "\n",
        "# Create a \"melted\" DataFrame to have a single column for labels\n",
        "melted_df = df.melt(id_vars=['comment_length'], value_vars=label_counts,\n",
        "                    var_name='label', value_name='is_present')\n",
        "\n",
        "# Filter only comments where the label is present\n",
        "melted_df = melted_df[melted_df['is_present'] == 1]\n",
        "\n",
        "# Create the box plot\n",
        "plt.figure(figsize=(10, 6))\n",
        "sns.boxplot(x='label', y='comment_length', data=melted_df)\n",
        "plt.title('Distribution of Comment Length by Label')\n",
        "plt.xlabel('Labels')\n",
        "plt.ylabel('Comment Length')\n",
        "plt.show()"
      ],
      "metadata": {
        "colab": {
          "base_uri": "https://localhost:8080/",
          "height": 564
        },
        "id": "ICHJ0WHG1udt",
        "outputId": "24081b73-21d8-4183-d451-f28e6b906a6c"
      },
      "execution_count": 10,
      "outputs": [
        {
          "output_type": "display_data",
          "data": {
            "text/plain": [
              "<Figure size 1000x600 with 1 Axes>"
            ],
            "image/png": "[encoded data removed]"
          },
          "metadata": {}
        }
      ]
    },
    {
      "cell_type": "markdown",
      "source": [
        "Il grafico con i boxplot consente di osservare la distribuzione della lunghezza dei commenti per ciascuna etichetta. Si nota chiaramente la presenza di numerosi outlier in tutte le classi, in particolare nella categoria \"toxic\". Questo indica che, sebbene la maggior parte dei commenti sia piuttosto breve, esistono anche commenti significativamente più lunghi."
      ],
      "metadata": {
        "id": "aQAO3v1S5e9n"
      }
    },
    {
      "cell_type": "markdown",
      "source": [
        "# Pre-processing dei dati"
      ],
      "metadata": {
        "id": "Weh4EujK6ejK"
      }
    },
    {
      "cell_type": "markdown",
      "source": [
        "Procediamo con la pulizia del testo. A tal fine, definiamo una funzione che ci permetta di rimuovere elementi indesiderati dai commenti, come numeri, punteggiatura e stop words."
      ],
      "metadata": {
        "id": "9qsRTkRg73L1"
      }
    },
    {
      "cell_type": "code",
      "source": [
        "nltk.download('stopwords')"
      ],
      "metadata": {
        "colab": {
          "base_uri": "https://localhost:8080/"
        },
        "id": "K88YACbc2vUE",
        "outputId": "e1af82fd-cd55-402c-885e-97019a4b7c8e"
      },
      "execution_count": 11,
      "outputs": [
        {
          "output_type": "stream",
          "name": "stderr",
          "text": [
            "[nltk_data] Downloading package stopwords to /root/nltk_data...\n",
            "[nltk_data]   Unzipping corpora/stopwords.zip.\n"
          ]
        },
        {
          "output_type": "execute_result",
          "data": {
            "text/plain": [
              "True"
            ]
          },
          "metadata": {},
          "execution_count": 11
        }
      ]
    },
    {
      "cell_type": "code",
      "source": [
        "# Text cleaning function\n",
        "stop_words = set(stopwords.words('english'))\n",
        "def clean_text(text):\n",
        "    text = text.lower()  # Convert to lowercase\n",
        "    text = re.sub(r'\\b\\w{1,2}\\b', '', text)  # Remove short words\n",
        "    text = re.sub(r'\\d+', '', text)  # Remove numbers\n",
        "    text = re.sub(r'[^\\w\\s]', '', text)  # Remove punctuation\n",
        "    text = \" \".join([word for word in text.split() if word not in stop_words])  # Remove stopwords\n",
        "    return text"
      ],
      "metadata": {
        "id": "U58mNEUH11lH"
      },
      "execution_count": 12,
      "outputs": []
    },
    {
      "cell_type": "code",
      "source": [
        "df['comment_text'] = df['comment_text'].apply(clean_text)\n",
        "df['comment_text'].head()"
      ],
      "metadata": {
        "id": "p__Fe2C911bE",
        "colab": {
          "base_uri": "https://localhost:8080/",
          "height": 241
        },
        "outputId": "729599af-764f-4bb5-a8e0-7b78c21d5f50"
      },
      "execution_count": 13,
      "outputs": [
        {
          "output_type": "execute_result",
          "data": {
            "text/plain": [
              "0    explanation edits made username hardcore metal...\n",
              "1    aww matches background colour seemingly stuck ...\n",
              "2    hey man really trying edit war guy constantly ...\n",
              "3    make real suggestions improvement wondered sec...\n",
              "4                        sir hero chance remember page\n",
              "Name: comment_text, dtype: object"
            ],
            "text/html": [
              "<div>\n",
              "<style scoped>\n",
              "    .dataframe tbody tr th:only-of-type {\n",
              "        vertical-align: middle;\n",
              "    }\n",
              "\n",
              "    .dataframe tbody tr th {\n",
              "        vertical-align: top;\n",
              "    }\n",
              "\n",
              "    .dataframe thead th {\n",
              "        text-align: right;\n",
              "    }\n",
              "</style>\n",
              "<table border=\"1\" class=\"dataframe\">\n",
              "  <thead>\n",
              "    <tr style=\"text-align: right;\">\n",
              "      <th></th>\n",
              "      <th>comment_text</th>\n",
              "    </tr>\n",
              "  </thead>\n",
              "  <tbody>\n",
              "    <tr>\n",
              "      <th>0</th>\n",
              "      <td>explanation edits made username hardcore metal...</td>\n",
              "    </tr>\n",
              "    <tr>\n",
              "      <th>1</th>\n",
              "      <td>aww matches background colour seemingly stuck ...</td>\n",
              "    </tr>\n",
              "    <tr>\n",
              "      <th>2</th>\n",
              "      <td>hey man really trying edit war guy constantly ...</td>\n",
              "    </tr>\n",
              "    <tr>\n",
              "      <th>3</th>\n",
              "      <td>make real suggestions improvement wondered sec...</td>\n",
              "    </tr>\n",
              "    <tr>\n",
              "      <th>4</th>\n",
              "      <td>sir hero chance remember page</td>\n",
              "    </tr>\n",
              "  </tbody>\n",
              "</table>\n",
              "</div><br><label><b>dtype:</b> object</label>"
            ]
          },
          "metadata": {},
          "execution_count": 13
        }
      ]
    },
    {
      "cell_type": "markdown",
      "source": [
        "A questo punto, possiamo procedere con la suddivisione del dataset in set di addestramento, validazione e test. Utilizzeremo MultilabelStratifiedShuffleSplit, una tecnica appositamente pensata per la classificazione multilabel, che consente di mantenere la proporzione di ciascuna etichetta all'interno di tutti e tre i set.\n",
        "\n",
        "A tal fine viene eseguito un primo split per suddividere il dataset iniziale in train e temp.\n",
        "\n",
        "Successivamente si suddivide temp per ottenere validation e test."
      ],
      "metadata": {
        "id": "8QbTJ-h9_V1v"
      }
    },
    {
      "cell_type": "code",
      "source": [
        "X = df['comment_text']\n",
        "y = df[label_counts]\n",
        "\n",
        "# First split to obtain training and temporary sets (validation + test)\n",
        "mss_train_temp = MultilabelStratifiedShuffleSplit(n_splits=1, test_size=0.4, random_state=42)\n",
        "\n",
        "for train_index, temp_index in mss_train_temp.split(X, y):\n",
        "    X_train, X_temp = X.iloc[train_index], X.iloc[temp_index]\n",
        "    y_train, y_temp = y.iloc[train_index], y.iloc[temp_index]\n",
        "\n",
        "# Second split to obtain validation and test sets from the temporary set\n",
        "mss_val_test = MultilabelStratifiedShuffleSplit(n_splits=1, test_size=0.5, random_state=42)\n",
        "\n",
        "for val_index, test_index in mss_val_test.split(X_temp, y_temp):\n",
        "    X_val, X_test = X_temp.iloc[val_index], X_temp.iloc[test_index]\n",
        "    y_val, y_test = y_temp.iloc[val_index], y_temp.iloc[test_index]\n",
        "\n",
        "print(\"Training set size:\", X_train.shape, y_train.shape)\n",
        "print(\"Validation set size:\", X_val.shape, y_val.shape)\n",
        "print(\"Test set size:\", X_test.shape, y_test.shape)"
      ],
      "metadata": {
        "id": "XpbR6fjaMmAG",
        "colab": {
          "base_uri": "https://localhost:8080/"
        },
        "outputId": "94d7262d-53b2-4ed3-db8a-689a770274bc"
      },
      "execution_count": 14,
      "outputs": [
        {
          "output_type": "stream",
          "name": "stdout",
          "text": [
            "Training set size: (95742,) (95742, 6)\n",
            "Validation set size: (31914,) (31914, 6)\n",
            "Test set size: (31915,) (31915, 6)\n"
          ]
        }
      ]
    },
    {
      "cell_type": "markdown",
      "source": [
        "Proseguiamo con la tokenizzazione, un processo che consiste nel trasformare i commenti testuali in sequenze di numeri interi. Ogni numero rappresenta una parola specifica del vocabolario costruito a partire dal dataset. In questo modo, il testo viene convertito in una forma numerica che può essere facilmente elaborata da un modello di machine learning per l’addestramento e la predizione."
      ],
      "metadata": {
        "id": "yGHMoqCpgJ6c"
      }
    },
    {
      "cell_type": "code",
      "source": [
        "tokenizer = Tokenizer(num_words=10000, oov_token=\"<OOV>\")\n",
        "tokenizer.fit_on_texts(X_train)"
      ],
      "metadata": {
        "id": "YuOG4eOzAKSa"
      },
      "execution_count": 15,
      "outputs": []
    },
    {
      "cell_type": "code",
      "source": [
        "train_sequences= tokenizer.texts_to_sequences(X_train)\n",
        "validation_sequences= tokenizer.texts_to_sequences(X_val)\n",
        "test_sequences= tokenizer.texts_to_sequences(X_test)"
      ],
      "metadata": {
        "id": "xAZtrJpW9Wb6"
      },
      "execution_count": 16,
      "outputs": []
    },
    {
      "cell_type": "code",
      "source": [
        "vocabulary_size = len(tokenizer.word_index) + 1\n",
        "vocabulary_size"
      ],
      "metadata": {
        "id": "s33U2abx9WYG",
        "colab": {
          "base_uri": "https://localhost:8080/"
        },
        "outputId": "a0fb8c26-bfc1-4f43-c7ec-0bd7793d0d82"
      },
      "execution_count": 17,
      "outputs": [
        {
          "output_type": "execute_result",
          "data": {
            "text/plain": [
              "152736"
            ]
          },
          "metadata": {},
          "execution_count": 17
        }
      ]
    },
    {
      "cell_type": "code",
      "source": [
        "maxlen = len(max(train_sequences,key=len))\n",
        "maxlen"
      ],
      "metadata": {
        "colab": {
          "base_uri": "https://localhost:8080/"
        },
        "id": "RkSybLyF9WWf",
        "outputId": "893357c4-3ee7-4289-ea07-e9113db38c28"
      },
      "execution_count": 18,
      "outputs": [
        {
          "output_type": "execute_result",
          "data": {
            "text/plain": [
              "1235"
            ]
          },
          "metadata": {},
          "execution_count": 18
        }
      ]
    },
    {
      "cell_type": "markdown",
      "source": [
        "PADDING\n",
        "- Quando si lavora con modelli di deep learning per testi (come LSTM, GRU o CNN), è necessario che tutte le sequenze abbiano la stessa lunghezza. Tuttavia, i commenti/testi non hanno lunghezza fissa. La funzione pad_sequences di Keras risolve questo problema.\n",
        "\n",
        "- pad_sequences aggiunge zeri (per default) all’inizio delle sequenze (padding pre) per farle tutte della stessa lunghezza: quella specificata da maxlen."
      ],
      "metadata": {
        "id": "KRz8dRftHZ9d"
      }
    },
    {
      "cell_type": "code",
      "source": [
        "padded_train_sequences = pad_sequences(train_sequences,maxlen=maxlen)\n",
        "padded_validation_sequences = pad_sequences(validation_sequences,maxlen=maxlen)\n",
        "padded_test_sequences = pad_sequences(test_sequences,maxlen=maxlen)"
      ],
      "metadata": {
        "id": "kWNuGDu39WTU"
      },
      "execution_count": 19,
      "outputs": []
    },
    {
      "cell_type": "markdown",
      "source": [
        "Poiché nella fase iniziale dell'analisi esplorativa abbiamo riscontrato un marcato sbilanciamento tra commenti positivi e negativi, è necessario applicare tecniche di bilanciamento prima di procedere con la creazione del modello.\n",
        "\n",
        "In questo caso, implementeremo una funzione in grado di generare nuovi campioni sintetici per le classi minoritarie.\n",
        "Dal momento che SMOTE non è adatto a problemi di classificazione multilabel, utilizzeremo una sua variante più adatta: MLSMOTE (Multi-Label Synthetic Minority Over-sampling Technique)."
      ],
      "metadata": {
        "id": "ZUk6pXD6hYbg"
      }
    },
    {
      "cell_type": "code",
      "source": [
        "def MLSMOTE(X, y, n_samples=10000, k_neighbors=5, random_state=42):\n",
        "    \"\"\"Apply MLSMOTE to generate new synthetic multilabel samples.\"\"\"\n",
        "    np.random.seed(random_state)\n",
        "\n",
        "    # Find minority classes\n",
        "    labels = y.sum(axis=0)\n",
        "    min_classes = labels[labels < labels.median()].index\n",
        "\n",
        "    # Apply SMOTE only to examples that have at least one minority class\n",
        "    minority_indices = y[min_classes].sum(axis=1) > 0\n",
        "    X_minority, y_minority = X[minority_indices], y[minority_indices]\n",
        "\n",
        "    # Find your nearest neighbors\n",
        "    neigh = NearestNeighbors(n_neighbors=k_neighbors)\n",
        "    neigh.fit(X_minority)\n",
        "\n",
        "    synthetic_X, synthetic_y = [], []\n",
        "    for _ in range(n_samples):\n",
        "        index = np.random.randint(0, len(X_minority))\n",
        "        x_sample = X_minority.iloc[index]\n",
        "        y_sample = y_minority.iloc[index]\n",
        "\n",
        "        # Find your nearest neighbors\n",
        "        neighbors = neigh.kneighbors([x_sample], return_distance=False)[0]\n",
        "        neighbor = X_minority.iloc[np.random.choice(neighbors)]\n",
        "\n",
        "        # Generates a new sample by interpolating between the selected sample and its neighbor\n",
        "        new_sample = x_sample + np.random.rand() * (neighbor - x_sample)\n",
        "\n",
        "        # The new sample label is the combination of the original labels\n",
        "        new_label = y_sample | y_minority.iloc[np.random.choice(neighbors)]\n",
        "\n",
        "        synthetic_X.append(new_sample)\n",
        "        synthetic_y.append(new_label)\n",
        "\n",
        "    return np.vstack([X, np.array(synthetic_X)]), np.vstack([y, np.array(synthetic_y)])"
      ],
      "metadata": {
        "id": "cT3V0CoqOEN2"
      },
      "execution_count": 23,
      "outputs": []
    },
    {
      "cell_type": "code",
      "source": [
        "X_train_df = pd.DataFrame(padded_train_sequences)\n",
        "X_train_df.reset_index(drop=True, inplace=True)  ### approfondire\n",
        "y_train_reset = y_train.reset_index(drop=True)"
      ],
      "metadata": {
        "id": "scZtEz8gtRo9"
      },
      "execution_count": 24,
      "outputs": []
    },
    {
      "cell_type": "code",
      "source": [
        "X_train_resampled, y_train_resampled = MLSMOTE(X_train_df, y_train_reset, n_samples=5000)"
      ],
      "metadata": {
        "id": "jA1GJ9oFsRST"
      },
      "execution_count": 25,
      "outputs": []
    },
    {
      "cell_type": "code",
      "source": [
        "X_train_resampled = np.array(X_train_resampled)\n",
        "y_train_resampled = np.array(y_train_resampled)\n",
        "\n",
        "print(\"Balanced data with MLSMOTE:\")\n",
        "print(f\"New shape X_train: {X_train_resampled.shape}\")\n",
        "print(f\"New shape y_train: {y_train_resampled.shape}\")\n",
        "print(\"-------------\")\n",
        "print(vocabulary_size)\n",
        "print(maxlen)"
      ],
      "metadata": {
        "colab": {
          "base_uri": "https://localhost:8080/"
        },
        "id": "ucwSspYWsROY",
        "outputId": "a05e525e-b067-4597-e760-d7ae66b3aab0"
      },
      "execution_count": 26,
      "outputs": [
        {
          "output_type": "stream",
          "name": "stdout",
          "text": [
            "Balanced data with MLSMOTE:\n",
            "New shape X_train: (100742, 1235)\n",
            "New shape y_train: (100742, 6)\n",
            "-------------\n",
            "152736\n",
            "1235\n"
          ]
        }
      ]
    },
    {
      "cell_type": "code",
      "source": [
        "import tensorflow as tf\n",
        "device_name = tf.test.gpu_device_name()\n",
        "if device_name != '/device:GPU:0':\n",
        "  raise SystemError('GPU device not found')\n",
        "print('Found GPU at: {}'.format(device_name))"
      ],
      "metadata": {
        "colab": {
          "base_uri": "https://localhost:8080/",
          "height": 193
        },
        "id": "PH3K6yIEsRGD",
        "outputId": "ec277f7e-d771-45a3-908c-4ed0d6025bfe"
      },
      "execution_count": 27,
      "outputs": [
        {
          "output_type": "error",
          "ename": "SystemError",
          "evalue": "GPU device not found",
          "traceback": [
            "\u001b[0;31m---------------------------------------------------------------------------\u001b[0m",
            "\u001b[0;31mSystemError\u001b[0m                               Traceback (most recent call last)",
            "\u001b[0;32m<ipython-input-27-d1680108c58e>\u001b[0m in \u001b[0;36m<cell line: 0>\u001b[0;34m()\u001b[0m\n\u001b[1;32m      2\u001b[0m \u001b[0mdevice_name\u001b[0m \u001b[0;34m=\u001b[0m \u001b[0mtf\u001b[0m\u001b[0;34m.\u001b[0m\u001b[0mtest\u001b[0m\u001b[0;34m.\u001b[0m\u001b[0mgpu_device_name\u001b[0m\u001b[0;34m(\u001b[0m\u001b[0;34m)\u001b[0m\u001b[0;34m\u001b[0m\u001b[0;34m\u001b[0m\u001b[0m\n\u001b[1;32m      3\u001b[0m \u001b[0;32mif\u001b[0m \u001b[0mdevice_name\u001b[0m \u001b[0;34m!=\u001b[0m \u001b[0;34m'/device:GPU:0'\u001b[0m\u001b[0;34m:\u001b[0m\u001b[0;34m\u001b[0m\u001b[0;34m\u001b[0m\u001b[0m\n\u001b[0;32m----> 4\u001b[0;31m   \u001b[0;32mraise\u001b[0m \u001b[0mSystemError\u001b[0m\u001b[0;34m(\u001b[0m\u001b[0;34m'GPU device not found'\u001b[0m\u001b[0;34m)\u001b[0m\u001b[0;34m\u001b[0m\u001b[0;34m\u001b[0m\u001b[0m\n\u001b[0m\u001b[1;32m      5\u001b[0m \u001b[0mprint\u001b[0m\u001b[0;34m(\u001b[0m\u001b[0;34m'Found GPU at: {}'\u001b[0m\u001b[0;34m.\u001b[0m\u001b[0mformat\u001b[0m\u001b[0;34m(\u001b[0m\u001b[0mdevice_name\u001b[0m\u001b[0;34m)\u001b[0m\u001b[0;34m)\u001b[0m\u001b[0;34m\u001b[0m\u001b[0;34m\u001b[0m\u001b[0m\n",
            "\u001b[0;31mSystemError\u001b[0m: GPU device not found"
          ]
        }
      ]
    },
    {
      "cell_type": "markdown",
      "source": [
        "# Creazione del modello"
      ],
      "metadata": {
        "id": "Ph86XYx9izK0"
      }
    },
    {
      "cell_type": "markdown",
      "source": [
        "Creiamo una rete neurale sequenziale costituita dai seguenti layers:\n",
        "\n",
        "\n",
        "*   **embedding**: converte gli input testuali in vettori densi di dimensioni fisse\n",
        "*   **convolutional**: utilizzato per rilevare caratteristiche locali all'interno di sequenze\n",
        "*   **maxpooling**: riduce la dimensionalità degli output del layer convoluzionale\n",
        "*   **bidirectional LSTM**: consente al modello di avere informazioni sia dalle sequenze precedenti che da quelle successive\n",
        "*   **LSTM**: un altro strato LSTM,  questa volta unidirezionale, che restituisce solo l'ultimo stato nascosto\n",
        "*   **dense**: uno strato denso per combinare le caratteristiche estratte in precedenza e prepararle per la classificazione finale\n",
        "*   **dropout**: aiuta a prevenire l'overfitting\n",
        "*   **dense**: per la classificazione multilabel, dove ciascun neurone dell'output rappresenta una classe e la sigmoide restituisce la probabilità che ciascuna classe sia presente.\n",
        "\n",
        "\n",
        "\n",
        "\n",
        "\n",
        "\n",
        "\n"
      ],
      "metadata": {
        "id": "CW8bWE3E1hVP"
      }
    },
    {
      "cell_type": "code",
      "source": [
        "clear_session()\n",
        "model_LSTM = Sequential()\n",
        "model_LSTM.add(Embedding(input_dim=152736, output_dim=128))\n",
        "model_LSTM.add(Conv1D(128,5, activation=\"relu\")),\n",
        "model_LSTM.add(MaxPooling1D(pool_size=2)),\n",
        "model_LSTM.add(Bidirectional(LSTM(32, return_sequences=True)))\n",
        "model_LSTM.add(LSTM(32))\n",
        "model_LSTM.add(Dense(units=32, activation=\"relu\")),\n",
        "model_LSTM.add(Dropout(0.5)),\n",
        "model_LSTM.add(Dense(6,activation='sigmoid'))\n",
        "\n",
        "model_LSTM.compile(\n",
        "    optimizer = \"adam\",\n",
        "    loss = \"binary_crossentropy\",\n",
        "    metrics = [\"accuracy\", \"precision\", \"recall\"]\n",
        ")\n",
        "\n",
        "model_LSTM.build((None,maxlen))\n",
        "model_LSTM.summary()"
      ],
      "metadata": {
        "colab": {
          "base_uri": "https://localhost:8080/",
          "height": 385
        },
        "id": "SdcGsgl4-PEN",
        "outputId": "9d415349-4150-4ba2-e0fd-86f38fc9b00f"
      },
      "execution_count": 28,
      "outputs": [
        {
          "output_type": "display_data",
          "data": {
            "text/plain": [
              "\u001b[1mModel: \"sequential\"\u001b[0m\n"
            ],
            "text/html": [
              "<pre style=\"white-space:pre;overflow-x:auto;line-height:normal;font-family:Menlo,'DejaVu Sans Mono',consolas,'Courier New',monospace\"><span style=\"font-weight: bold\">Model: \"sequential\"</span>\n",
              "</pre>\n"
            ]
          },
          "metadata": {}
        },
        {
          "output_type": "display_data",
          "data": {
            "text/plain": [
              "┏━━━━━━━━━━━━━━━━━━━━━━━━━━━━━━━━━┳━━━━━━━━━━━━━━━━━━━━━━━━┳━━━━━━━━━━━━━━━┓\n",
              "┃\u001b[1m \u001b[0m\u001b[1mLayer (type)                   \u001b[0m\u001b[1m \u001b[0m┃\u001b[1m \u001b[0m\u001b[1mOutput Shape          \u001b[0m\u001b[1m \u001b[0m┃\u001b[1m \u001b[0m\u001b[1m      Param #\u001b[0m\u001b[1m \u001b[0m┃\n",
              "┡━━━━━━━━━━━━━━━━━━━━━━━━━━━━━━━━━╇━━━━━━━━━━━━━━━━━━━━━━━━╇━━━━━━━━━━━━━━━┩\n",
              "│ embedding (\u001b[38;5;33mEmbedding\u001b[0m)           │ (\u001b[38;5;45mNone\u001b[0m, \u001b[38;5;34m1235\u001b[0m, \u001b[38;5;34m128\u001b[0m)      │    \u001b[38;5;34m19,550,208\u001b[0m │\n",
              "├─────────────────────────────────┼────────────────────────┼───────────────┤\n",
              "│ conv1d (\u001b[38;5;33mConv1D\u001b[0m)                 │ (\u001b[38;5;45mNone\u001b[0m, \u001b[38;5;34m1231\u001b[0m, \u001b[38;5;34m128\u001b[0m)      │        \u001b[38;5;34m82,048\u001b[0m │\n",
              "├─────────────────────────────────┼────────────────────────┼───────────────┤\n",
              "│ max_pooling1d (\u001b[38;5;33mMaxPooling1D\u001b[0m)    │ (\u001b[38;5;45mNone\u001b[0m, \u001b[38;5;34m615\u001b[0m, \u001b[38;5;34m128\u001b[0m)       │             \u001b[38;5;34m0\u001b[0m │\n",
              "├─────────────────────────────────┼────────────────────────┼───────────────┤\n",
              "│ bidirectional (\u001b[38;5;33mBidirectional\u001b[0m)   │ (\u001b[38;5;45mNone\u001b[0m, \u001b[38;5;34m615\u001b[0m, \u001b[38;5;34m64\u001b[0m)        │        \u001b[38;5;34m41,216\u001b[0m │\n",
              "├─────────────────────────────────┼────────────────────────┼───────────────┤\n",
              "│ lstm_1 (\u001b[38;5;33mLSTM\u001b[0m)                   │ (\u001b[38;5;45mNone\u001b[0m, \u001b[38;5;34m32\u001b[0m)             │        \u001b[38;5;34m12,416\u001b[0m │\n",
              "├─────────────────────────────────┼────────────────────────┼───────────────┤\n",
              "│ dense (\u001b[38;5;33mDense\u001b[0m)                   │ (\u001b[38;5;45mNone\u001b[0m, \u001b[38;5;34m32\u001b[0m)             │         \u001b[38;5;34m1,056\u001b[0m │\n",
              "├─────────────────────────────────┼────────────────────────┼───────────────┤\n",
              "│ dropout (\u001b[38;5;33mDropout\u001b[0m)               │ (\u001b[38;5;45mNone\u001b[0m, \u001b[38;5;34m32\u001b[0m)             │             \u001b[38;5;34m0\u001b[0m │\n",
              "├─────────────────────────────────┼────────────────────────┼───────────────┤\n",
              "│ dense_1 (\u001b[38;5;33mDense\u001b[0m)                 │ (\u001b[38;5;45mNone\u001b[0m, \u001b[38;5;34m6\u001b[0m)              │           \u001b[38;5;34m198\u001b[0m │\n",
              "└─────────────────────────────────┴────────────────────────┴───────────────┘\n"
            ],
            "text/html": [
              "<pre style=\"white-space:pre;overflow-x:auto;line-height:normal;font-family:Menlo,'DejaVu Sans Mono',consolas,'Courier New',monospace\">┏━━━━━━━━━━━━━━━━━━━━━━━━━━━━━━━━━┳━━━━━━━━━━━━━━━━━━━━━━━━┳━━━━━━━━━━━━━━━┓\n",
              "┃<span style=\"font-weight: bold\"> Layer (type)                    </span>┃<span style=\"font-weight: bold\"> Output Shape           </span>┃<span style=\"font-weight: bold\">       Param # </span>┃\n",
              "┡━━━━━━━━━━━━━━━━━━━━━━━━━━━━━━━━━╇━━━━━━━━━━━━━━━━━━━━━━━━╇━━━━━━━━━━━━━━━┩\n",
              "│ embedding (<span style=\"color: #0087ff; text-decoration-color: #0087ff\">Embedding</span>)           │ (<span style=\"color: #00d7ff; text-decoration-color: #00d7ff\">None</span>, <span style=\"color: #00af00; text-decoration-color: #00af00\">1235</span>, <span style=\"color: #00af00; text-decoration-color: #00af00\">128</span>)      │    <span style=\"color: #00af00; text-decoration-color: #00af00\">19,550,208</span> │\n",
              "├─────────────────────────────────┼────────────────────────┼───────────────┤\n",
              "│ conv1d (<span style=\"color: #0087ff; text-decoration-color: #0087ff\">Conv1D</span>)                 │ (<span style=\"color: #00d7ff; text-decoration-color: #00d7ff\">None</span>, <span style=\"color: #00af00; text-decoration-color: #00af00\">1231</span>, <span style=\"color: #00af00; text-decoration-color: #00af00\">128</span>)      │        <span style=\"color: #00af00; text-decoration-color: #00af00\">82,048</span> │\n",
              "├─────────────────────────────────┼────────────────────────┼───────────────┤\n",
              "│ max_pooling1d (<span style=\"color: #0087ff; text-decoration-color: #0087ff\">MaxPooling1D</span>)    │ (<span style=\"color: #00d7ff; text-decoration-color: #00d7ff\">None</span>, <span style=\"color: #00af00; text-decoration-color: #00af00\">615</span>, <span style=\"color: #00af00; text-decoration-color: #00af00\">128</span>)       │             <span style=\"color: #00af00; text-decoration-color: #00af00\">0</span> │\n",
              "├─────────────────────────────────┼────────────────────────┼───────────────┤\n",
              "│ bidirectional (<span style=\"color: #0087ff; text-decoration-color: #0087ff\">Bidirectional</span>)   │ (<span style=\"color: #00d7ff; text-decoration-color: #00d7ff\">None</span>, <span style=\"color: #00af00; text-decoration-color: #00af00\">615</span>, <span style=\"color: #00af00; text-decoration-color: #00af00\">64</span>)        │        <span style=\"color: #00af00; text-decoration-color: #00af00\">41,216</span> │\n",
              "├─────────────────────────────────┼────────────────────────┼───────────────┤\n",
              "│ lstm_1 (<span style=\"color: #0087ff; text-decoration-color: #0087ff\">LSTM</span>)                   │ (<span style=\"color: #00d7ff; text-decoration-color: #00d7ff\">None</span>, <span style=\"color: #00af00; text-decoration-color: #00af00\">32</span>)             │        <span style=\"color: #00af00; text-decoration-color: #00af00\">12,416</span> │\n",
              "├─────────────────────────────────┼────────────────────────┼───────────────┤\n",
              "│ dense (<span style=\"color: #0087ff; text-decoration-color: #0087ff\">Dense</span>)                   │ (<span style=\"color: #00d7ff; text-decoration-color: #00d7ff\">None</span>, <span style=\"color: #00af00; text-decoration-color: #00af00\">32</span>)             │         <span style=\"color: #00af00; text-decoration-color: #00af00\">1,056</span> │\n",
              "├─────────────────────────────────┼────────────────────────┼───────────────┤\n",
              "│ dropout (<span style=\"color: #0087ff; text-decoration-color: #0087ff\">Dropout</span>)               │ (<span style=\"color: #00d7ff; text-decoration-color: #00d7ff\">None</span>, <span style=\"color: #00af00; text-decoration-color: #00af00\">32</span>)             │             <span style=\"color: #00af00; text-decoration-color: #00af00\">0</span> │\n",
              "├─────────────────────────────────┼────────────────────────┼───────────────┤\n",
              "│ dense_1 (<span style=\"color: #0087ff; text-decoration-color: #0087ff\">Dense</span>)                 │ (<span style=\"color: #00d7ff; text-decoration-color: #00d7ff\">None</span>, <span style=\"color: #00af00; text-decoration-color: #00af00\">6</span>)              │           <span style=\"color: #00af00; text-decoration-color: #00af00\">198</span> │\n",
              "└─────────────────────────────────┴────────────────────────┴───────────────┘\n",
              "</pre>\n"
            ]
          },
          "metadata": {}
        },
        {
          "output_type": "display_data",
          "data": {
            "text/plain": [
              "\u001b[1m Total params: \u001b[0m\u001b[38;5;34m19,687,142\u001b[0m (75.10 MB)\n"
            ],
            "text/html": [
              "<pre style=\"white-space:pre;overflow-x:auto;line-height:normal;font-family:Menlo,'DejaVu Sans Mono',consolas,'Courier New',monospace\"><span style=\"font-weight: bold\"> Total params: </span><span style=\"color: #00af00; text-decoration-color: #00af00\">19,687,142</span> (75.10 MB)\n",
              "</pre>\n"
            ]
          },
          "metadata": {}
        },
        {
          "output_type": "display_data",
          "data": {
            "text/plain": [
              "\u001b[1m Trainable params: \u001b[0m\u001b[38;5;34m19,687,142\u001b[0m (75.10 MB)\n"
            ],
            "text/html": [
              "<pre style=\"white-space:pre;overflow-x:auto;line-height:normal;font-family:Menlo,'DejaVu Sans Mono',consolas,'Courier New',monospace\"><span style=\"font-weight: bold\"> Trainable params: </span><span style=\"color: #00af00; text-decoration-color: #00af00\">19,687,142</span> (75.10 MB)\n",
              "</pre>\n"
            ]
          },
          "metadata": {}
        },
        {
          "output_type": "display_data",
          "data": {
            "text/plain": [
              "\u001b[1m Non-trainable params: \u001b[0m\u001b[38;5;34m0\u001b[0m (0.00 B)\n"
            ],
            "text/html": [
              "<pre style=\"white-space:pre;overflow-x:auto;line-height:normal;font-family:Menlo,'DejaVu Sans Mono',consolas,'Courier New',monospace\"><span style=\"font-weight: bold\"> Non-trainable params: </span><span style=\"color: #00af00; text-decoration-color: #00af00\">0</span> (0.00 B)\n",
              "</pre>\n"
            ]
          },
          "metadata": {}
        }
      ]
    },
    {
      "cell_type": "markdown",
      "source": [
        "Aggiungiamo un `EarlyStopping` per interrompere l'addestramento nel caso in cui non ci sia più una diminuzione della `val_loss` dopo un certo numero di epoche consecutive, nel nostro caso 5."
      ],
      "metadata": {
        "id": "xkpdXm0hw7c1"
      }
    },
    {
      "cell_type": "code",
      "source": [
        "early_stopping = EarlyStopping(monitor='val_loss', patience=5, restore_best_weights=True)"
      ],
      "metadata": {
        "id": "Q-HMzbtJ_Q_p"
      },
      "execution_count": null,
      "outputs": []
    },
    {
      "cell_type": "code",
      "source": [
        "history = model_LSTM.fit(X_train_resampled, y_train_resampled, validation_data=(padded_validation_sequences, y_val), epochs=10, callbacks=[early_stopping], batch_size=128)"
      ],
      "metadata": {
        "id": "tnB26O_s-O8O",
        "colab": {
          "base_uri": "https://localhost:8080/"
        },
        "outputId": "fdcdbe1d-3a63-47a2-df01-ec645e968c1e"
      },
      "execution_count": null,
      "outputs": [
        {
          "output_type": "stream",
          "name": "stdout",
          "text": [
            "Epoch 1/10\n",
            "\u001b[1m788/788\u001b[0m \u001b[32m━━━━━━━━━━━━━━━━━━━━\u001b[0m\u001b[37m\u001b[0m \u001b[1m103s\u001b[0m 120ms/step - accuracy: 0.4991 - loss: 0.2770 - precision: 0.3621 - recall: 0.1575 - val_accuracy: 0.9949 - val_loss: 0.0780 - val_precision: 0.7684 - val_recall: 0.5606\n",
            "Epoch 2/10\n",
            "\u001b[1m788/788\u001b[0m \u001b[32m━━━━━━━━━━━━━━━━━━━━\u001b[0m\u001b[37m\u001b[0m \u001b[1m136s\u001b[0m 119ms/step - accuracy: 0.9094 - loss: 0.1418 - precision: 0.8015 - recall: 0.4651 - val_accuracy: 0.9949 - val_loss: 0.0777 - val_precision: 0.7540 - val_recall: 0.5599\n",
            "Epoch 3/10\n",
            "\u001b[1m788/788\u001b[0m \u001b[32m━━━━━━━━━━━━━━━━━━━━\u001b[0m\u001b[37m\u001b[0m \u001b[1m143s\u001b[0m 120ms/step - accuracy: 0.9875 - loss: 0.1158 - precision: 0.8058 - recall: 0.5444 - val_accuracy: 0.9949 - val_loss: 0.0774 - val_precision: 0.7044 - val_recall: 0.5793\n",
            "Epoch 4/10\n",
            "\u001b[1m788/788\u001b[0m \u001b[32m━━━━━━━━━━━━━━━━━━━━\u001b[0m\u001b[37m\u001b[0m \u001b[1m143s\u001b[0m 121ms/step - accuracy: 0.9921 - loss: 0.0946 - precision: 0.8255 - recall: 0.6296 - val_accuracy: 0.9949 - val_loss: 0.0840 - val_precision: 0.6215 - val_recall: 0.6247\n",
            "Epoch 5/10\n",
            "\u001b[1m788/788\u001b[0m \u001b[32m━━━━━━━━━━━━━━━━━━━━\u001b[0m\u001b[37m\u001b[0m \u001b[1m140s\u001b[0m 119ms/step - accuracy: 0.9935 - loss: 0.0824 - precision: 0.8358 - recall: 0.6871 - val_accuracy: 0.9949 - val_loss: 0.0806 - val_precision: 0.6818 - val_recall: 0.5918\n",
            "Epoch 6/10\n",
            "\u001b[1m788/788\u001b[0m \u001b[32m━━━━━━━━━━━━━━━━━━━━\u001b[0m\u001b[37m\u001b[0m \u001b[1m93s\u001b[0m 118ms/step - accuracy: 0.9929 - loss: 0.0751 - precision: 0.8424 - recall: 0.7159 - val_accuracy: 0.9949 - val_loss: 0.0897 - val_precision: 0.5983 - val_recall: 0.5787\n",
            "Epoch 7/10\n",
            "\u001b[1m788/788\u001b[0m \u001b[32m━━━━━━━━━━━━━━━━━━━━\u001b[0m\u001b[37m\u001b[0m \u001b[1m95s\u001b[0m 120ms/step - accuracy: 0.9935 - loss: 0.0692 - precision: 0.8436 - recall: 0.7501 - val_accuracy: 0.9949 - val_loss: 0.0887 - val_precision: 0.6229 - val_recall: 0.6111\n",
            "Epoch 8/10\n",
            "\u001b[1m788/788\u001b[0m \u001b[32m━━━━━━━━━━━━━━━━━━━━\u001b[0m\u001b[37m\u001b[0m \u001b[1m141s\u001b[0m 119ms/step - accuracy: 0.9933 - loss: 0.0671 - precision: 0.8481 - recall: 0.7598 - val_accuracy: 0.9949 - val_loss: 0.0943 - val_precision: 0.6042 - val_recall: 0.6025\n"
          ]
        }
      ]
    },
    {
      "cell_type": "markdown",
      "source": [
        "Valutazione dei risultati ottenuti\n",
        "\n",
        "Il processo di addestramento si è interrotto all'ottava epoca a causa dell'assenza di ulteriori miglioramenti nella validation loss, segnale che l'early stopping è stato attivato correttamente.\n",
        "\n",
        "- Accuracy: l’accuratezza del modello aumenta rapidamente tra la prima e la seconda epoca, stabilizzandosi poi intorno al 99%. L'accuracy sul set di validazione rimane costantemente alta, indicando una buona capacità del modello di generalizzare su dati non visti.\n",
        "\n",
        "- Loss: la loss sul set di addestramento decresce progressivamente, segnalando che il modello sta effettivamente apprendendo. Tuttavia, la validation loss non segue lo stesso andamento: a partire dalla quarta epoca, tende ad aumentare, il che suggerisce un possibile inizio di overfitting.\n",
        "\n",
        "- Precision e Recall: entrambe le metriche migliorano nel tempo, segno che il modello sta affinando la sua capacità di individuare correttamente le classi positive. Tuttavia, si osservano delle fluttuazioni, in particolare nella precisione sul set di validazione, il che può indicare una certa instabilità del modello nel mantenere prestazioni elevate su dati nuovi."
      ],
      "metadata": {
        "id": "Rey14V2n-Na4"
      }
    },
    {
      "cell_type": "markdown",
      "source": [
        "### Valutazione del modello sul set di test."
      ],
      "metadata": {
        "id": "wMlXMfNUVhvt"
      }
    },
    {
      "cell_type": "code",
      "source": [
        "model_LSTM.evaluate(padded_test_sequences,y_test)"
      ],
      "metadata": {
        "id": "LUSrtl58-O5P",
        "colab": {
          "base_uri": "https://localhost:8080/"
        },
        "outputId": "a0f6b415-aba4-44d8-9c3e-f182c1eff0fa"
      },
      "execution_count": null,
      "outputs": [
        {
          "output_type": "stream",
          "name": "stdout",
          "text": [
            "\u001b[1m998/998\u001b[0m \u001b[32m━━━━━━━━━━━━━━━━━━━━\u001b[0m\u001b[37m\u001b[0m \u001b[1m26s\u001b[0m 26ms/step - accuracy: 0.9939 - loss: 0.0793 - precision: 0.6761 - recall: 0.5691\n"
          ]
        },
        {
          "output_type": "execute_result",
          "data": {
            "text/plain": [
              "[0.07938899844884872,\n",
              " 0.9937959909439087,\n",
              " 0.6963478326797485,\n",
              " 0.570289134979248]"
            ]
          },
          "metadata": {},
          "execution_count": 29
        }
      ]
    },
    {
      "cell_type": "markdown",
      "source": [
        "**L’accuratezza** risulta elevata, indicando che il modello è complessivamente efficace nelle sue previsioni.\n",
        "\n",
        "La **loss** è coerente con quanto osservato durante le fasi di addestramento e validazione, suggerendo che il modello non sta incorrendo in un grave overfitting.\n",
        "\n",
        "Tuttavia, si rileva un calo nelle metriche di precisione e recall rispetto ai valori ottenuti in fase di addestramento. Questo indica che il modello potrebbe incontrare difficoltà nel generalizzare su nuove istanze, in particolare nel gestire correttamente il bilanciamento tra falsi positivi e falsi negativi.\n",
        "\n",
        "Queste osservazioni suggeriscono l’opportunità di ulteriori interventi, tra cui:\n",
        "\n",
        "- Regolare la soglia di classificazione, per migliorare la precisione o il recall in base alle priorità dell’applicazione.\n",
        "\n",
        "- Applicare tecniche di regolarizzazione o aumentare la quantità di dati, al fine di ridurre potenziali problemi di overfitting e migliorare la generalizzazione del modello."
      ],
      "metadata": {
        "id": "UVNYPtvuDFCa"
      }
    },
    {
      "cell_type": "markdown",
      "source": [
        "### Definiamo una funzione per la rappresentazione grafica delle learning curves"
      ],
      "metadata": {
        "id": "k9vo_H9n-_PD"
      }
    },
    {
      "cell_type": "code",
      "source": [
        "def plot_learning_curves(history):\n",
        "    \"\"\"\n",
        "    Generate and visualize learning curve graphs for accuracy and loss.\n",
        "\n",
        "    history: The history object returned by the model's fit method.\n",
        "\n",
        "    \"\"\"\n",
        "    plt.figure(figsize=(12, 4))\n",
        "\n",
        "    # Plot accuracy\n",
        "    plt.subplot(1, 2, 1)\n",
        "    plt.plot(history.history['accuracy'], label='Training Accuracy')\n",
        "    plt.plot(history.history['val_accuracy'], label='Validation Accuracy')\n",
        "    plt.title('Learning Curve: Accuracy')\n",
        "    plt.xlabel('Epoch')\n",
        "    plt.ylabel('Accuracy')\n",
        "    plt.legend()\n",
        "    plt.grid(True)\n",
        "\n",
        "    # Plot loss\n",
        "    plt.subplot(1, 2, 2)\n",
        "    plt.plot(history.history['loss'], label='Training Loss')\n",
        "    plt.plot(history.history['val_loss'], label='Validation Loss')\n",
        "    plt.title('Learning Curve: Loss')\n",
        "    plt.xlabel('Epoch')\n",
        "    plt.ylabel('Loss')\n",
        "    plt.legend()\n",
        "    plt.grid(True)\n",
        "\n",
        "    plt.tight_layout()\n",
        "    plt.show()\n"
      ],
      "metadata": {
        "id": "13D3Vo18-Oz8"
      },
      "execution_count": null,
      "outputs": []
    },
    {
      "cell_type": "code",
      "source": [
        "plot_learning_curves(history)"
      ],
      "metadata": {
        "colab": {
          "base_uri": "https://localhost:8080/",
          "height": 407
        },
        "id": "vuyeOUfz8txY",
        "outputId": "9d7880de-0a00-4cda-b659-850f40e6f68a"
      },
      "execution_count": null,
      "outputs": [
        {
          "output_type": "display_data",
          "data": {
            "text/plain": [
              "<Figure size 1200x400 with 2 Axes>"
            ],
            "image/png": "[encoded data removed]"
          },
          "metadata": {}
        }
      ]
    },
    {
      "cell_type": "markdown",
      "source": [
        "I due grafici illustrano l’andamento dell’accuracy e della loss nel corso delle epoche, mettendo a confronto i risultati sui set di addestramento e di validazione.\n",
        "\n",
        "Si osserva che l’accuracy tende a convergere, raggiungendo un plateau dopo le prime epoche, segno che il modello ha appreso una rappresentazione stabile dei dati.\n",
        "\n",
        "Per quanto riguarda la loss, si nota un andamento più irregolare nel set di validazione, con alcune oscillazioni che potrebbero indicare variazioni nella capacità del modello di generalizzare su dati non visti."
      ],
      "metadata": {
        "id": "lacwty4__WOW"
      }
    },
    {
      "cell_type": "markdown",
      "source": [
        "### Definiamo una funzione per la rappresentazione grafica delle matrici di confusione"
      ],
      "metadata": {
        "id": "xtxGtp9d_K8p"
      }
    },
    {
      "cell_type": "code",
      "source": [
        "def plot_multilabel_confusion_matrices(y_true, y_pred, labels, threshold=0.5):\n",
        "    \"\"\"\n",
        "    Compute and display confusion matrices for each label in a multilabel context.\n",
        "    y_true: numpy array of size (n_samples, n_labels) with the true labels.\n",
        "    y_pred: numpy array of size (n_samples, n_labels) with the labels predicted by the model (probability).\n",
        "    labels: list of labels (or index of labels) for which to compute the confusion matrix.\n",
        "    threshold: threshold to binarize the probabilities.\n",
        "\n",
        "    \"\"\"\n",
        "    # Binarize y_pred based on threshold\n",
        "    y_pred_binary = (y_pred >= threshold).astype(int)\n",
        "\n",
        "    num_labels = len(labels)\n",
        "    fig, axes = plt.subplots(1, num_labels, figsize=(5 * num_labels, 5))\n",
        "\n",
        "    for idx, label in enumerate(labels):\n",
        "        # Extract the actual and expected labels for the current label\n",
        "        y_true_label = y_true[:, idx]\n",
        "        y_pred_label = y_pred_binary[:, idx]\n",
        "\n",
        "        # Calculate the confusion matrix for the current label\n",
        "        cm = confusion_matrix(y_true_label, y_pred_label, labels=[0, 1])\n",
        "\n",
        "        # Confusion matrix\n",
        "        ax = axes[idx] if num_labels > 1 else axes\n",
        "        sns.heatmap(cm, annot=True, fmt=\"d\", cmap=\"Blues\", ax=ax)\n",
        "        ax.set_title(f'Confusion matrix for {label}')\n",
        "        ax.set_xlabel('Predicted')\n",
        "        ax.set_ylabel('Real')\n",
        "        ax.set_xticklabels(['Negative', 'Positive'])\n",
        "        ax.set_yticklabels(['Negative', 'Positive'])\n",
        "\n",
        "    plt.tight_layout()\n",
        "    plt.show()"
      ],
      "metadata": {
        "id": "N9vVMfx8Z0qv"
      },
      "execution_count": null,
      "outputs": []
    },
    {
      "cell_type": "code",
      "source": [
        "y_pred = model_LSTM.predict(padded_test_sequences)\n",
        "y_true_array = np.array(y_test)\n",
        "y_pred_array = np.array(y_pred)\n",
        "\n",
        "confusion_matrices = plot_multilabel_confusion_matrices(y_true_array, y_pred_array, label_counts)\n",
        "print(confusion_matrices)"
      ],
      "metadata": {
        "colab": {
          "base_uri": "https://localhost:8080/",
          "height": 562
        },
        "id": "ny98cQUdXlr6",
        "outputId": "f048e463-23c8-427a-ecd6-b42b99757d0b"
      },
      "execution_count": null,
      "outputs": [
        {
          "output_type": "stream",
          "name": "stdout",
          "text": [
            "\u001b[1m998/998\u001b[0m \u001b[32m━━━━━━━━━━━━━━━━━━━━\u001b[0m\u001b[37m\u001b[0m \u001b[1m23s\u001b[0m 23ms/step\n"
          ]
        },
        {
          "output_type": "display_data",
          "data": {
            "text/plain": [
              "<Figure size 3000x500 with 12 Axes>"
            ],
            "image/png": "[encoded data removed]"
          },
          "metadata": {}
        },
        {
          "output_type": "stream",
          "name": "stdout",
          "text": [
            "None\n"
          ]
        }
      ]
    },
    {
      "cell_type": "markdown",
      "source": [
        "Le matrici di confusione confermano quanto osservato in precedenza: i valori non particolarmente elevati di precisione e recall si traducono in una presenza significativa di falsi positivi e falsi negativi.\n",
        "\n",
        "Analizzando ciascuna matrice, corrispondente a una specifica classe, si nota infatti che il modello commette un numero non trascurabile di errori nel distinguere correttamente tra istanze positive e negative."
      ],
      "metadata": {
        "id": "tCk48mJqV8tQ"
      }
    },
    {
      "cell_type": "markdown",
      "source": [
        "# Conclusioni"
      ],
      "metadata": {
        "id": "F89EN_3hygQc"
      }
    },
    {
      "cell_type": "markdown",
      "source": [
        "Il modello risulta complessivamente efficace nelle sue previsioni, tuttavia il numero rilevante di falsi positivi e falsi negativi evidenzia la necessità di ulteriori ottimizzazioni. Tra i possibili interventi migliorativi si possono considerare:\n",
        "\n",
        "- Regolare la soglia di classificazione, al fine di ottimizzare la precisione o il recall in base agli obiettivi specifici dell'applicazione\n",
        "\n",
        "- Sperimentare tecniche di regolarizzazione, per migliorare la capacità di generalizzazione del modello\n",
        "\n",
        "- Ampliare il dataset, così da ridurre il rischio di overfitting e rendere l’addestramento più robusto"
      ],
      "metadata": {
        "id": "L_S94_uCyjOb"
      }
    }
  ]
}